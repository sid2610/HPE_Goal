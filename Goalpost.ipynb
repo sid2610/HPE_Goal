{
  "nbformat": 4,
  "nbformat_minor": 0,
  "metadata": {
    "colab": {
      "name": "Goalpost.ipynb",
      "provenance": [],
      "collapsed_sections": [],
      "mount_file_id": "1-QSPQHK_3x1Kh4wi0AyATfRxpWq6_v5K",
      "authorship_tag": "ABX9TyMeYQmWGBoasyfmHqDRyiqT",
      "include_colab_link": true
    },
    "kernelspec": {
      "name": "python3",
      "display_name": "Python 3"
    }
  },
  "cells": [
    {
      "cell_type": "markdown",
      "metadata": {
        "id": "view-in-github",
        "colab_type": "text"
      },
      "source": [
        "<a href=\"https://colab.research.google.com/github/sid2610/HPE_Goal/blob/main/Goalpost.ipynb\" target=\"_parent\"><img src=\"https://colab.research.google.com/assets/colab-badge.svg\" alt=\"Open In Colab\"/></a>"
      ]
    },
    {
      "cell_type": "code",
      "metadata": {
        "id": "Nbbteo9dfAWv",
        "colab": {
          "base_uri": "https://localhost:8080/"
        },
        "outputId": "2a404c78-8a3d-413a-b8fe-1f1bd9829186"
      },
      "source": [
        "%tensorflow_version 1.x\r\n",
        "\r\n",
        "import numpy as np\r\n",
        "import tensorflow as tf\r\n",
        "print(tf.__version__)"
      ],
      "execution_count": null,
      "outputs": [
        {
          "output_type": "stream",
          "text": [
            "TensorFlow 1.x selected.\n",
            "1.15.2\n"
          ],
          "name": "stdout"
        }
      ]
    },
    {
      "cell_type": "code",
      "metadata": {
        "id": "uythpMb2ftwC",
        "colab": {
          "base_uri": "https://localhost:8080/"
        },
        "outputId": "8c97c60c-8076-44e8-98c9-2f7b9d2320fe"
      },
      "source": [
        "%pip install azure-storage-blob"
      ],
      "execution_count": null,
      "outputs": [
        {
          "output_type": "stream",
          "text": [
            "Collecting azure-storage-blob\n",
            "\u001b[?25l  Downloading https://files.pythonhosted.org/packages/8e/00/6772472a99cd0a5e74e4e90f87947fa041b37981a3ff93d883cbc450518d/azure_storage_blob-12.7.1-py2.py3-none-any.whl (339kB)\n",
            "\u001b[K     |████████████████████████████████| 348kB 5.8MB/s \n",
            "\u001b[?25hCollecting msrest>=0.6.18\n",
            "\u001b[?25l  Downloading https://files.pythonhosted.org/packages/e8/cc/6c96bfb3d3cf4c3bdedfa6b46503223f4c2a4fa388377697e0f8082a4fed/msrest-0.6.21-py2.py3-none-any.whl (85kB)\n",
            "\u001b[K     |████████████████████████████████| 92kB 7.2MB/s \n",
            "\u001b[?25hCollecting azure-core<2.0.0,>=1.10.0\n",
            "\u001b[?25l  Downloading https://files.pythonhosted.org/packages/f5/2a/ad5f6bb3fcbb5c59087183041c82fe74d536204a03f9a662db825e1b3be4/azure_core-1.11.0-py2.py3-none-any.whl (127kB)\n",
            "\u001b[K     |████████████████████████████████| 133kB 13.1MB/s \n",
            "\u001b[?25hCollecting cryptography>=2.1.4\n",
            "\u001b[?25l  Downloading https://files.pythonhosted.org/packages/f8/1f/acde6ff69864c5e78b56488e3afd93c1ccc8c2651186e2a5f93d93f64859/cryptography-3.4.6-cp36-abi3-manylinux2014_x86_64.whl (3.2MB)\n",
            "\u001b[K     |████████████████████████████████| 3.2MB 14.0MB/s \n",
            "\u001b[?25hRequirement already satisfied: certifi>=2017.4.17 in /usr/local/lib/python3.6/dist-packages (from msrest>=0.6.18->azure-storage-blob) (2020.12.5)\n",
            "Requirement already satisfied: requests-oauthlib>=0.5.0 in /usr/local/lib/python3.6/dist-packages (from msrest>=0.6.18->azure-storage-blob) (1.3.0)\n",
            "Requirement already satisfied: requests~=2.16 in /usr/local/lib/python3.6/dist-packages (from msrest>=0.6.18->azure-storage-blob) (2.23.0)\n",
            "Collecting isodate>=0.6.0\n",
            "\u001b[?25l  Downloading https://files.pythonhosted.org/packages/9b/9f/b36f7774ff5ea8e428fdcfc4bb332c39ee5b9362ddd3d40d9516a55221b2/isodate-0.6.0-py2.py3-none-any.whl (45kB)\n",
            "\u001b[K     |████████████████████████████████| 51kB 5.7MB/s \n",
            "\u001b[?25hRequirement already satisfied: six>=1.11.0 in /usr/local/lib/python3.6/dist-packages (from azure-core<2.0.0,>=1.10.0->azure-storage-blob) (1.15.0)\n",
            "Requirement already satisfied: cffi>=1.12 in /usr/local/lib/python3.6/dist-packages (from cryptography>=2.1.4->azure-storage-blob) (1.14.4)\n",
            "Requirement already satisfied: oauthlib>=3.0.0 in /usr/local/lib/python3.6/dist-packages (from requests-oauthlib>=0.5.0->msrest>=0.6.18->azure-storage-blob) (3.1.0)\n",
            "Requirement already satisfied: idna<3,>=2.5 in /usr/local/lib/python3.6/dist-packages (from requests~=2.16->msrest>=0.6.18->azure-storage-blob) (2.10)\n",
            "Requirement already satisfied: chardet<4,>=3.0.2 in /usr/local/lib/python3.6/dist-packages (from requests~=2.16->msrest>=0.6.18->azure-storage-blob) (3.0.4)\n",
            "Requirement already satisfied: urllib3!=1.25.0,!=1.25.1,<1.26,>=1.21.1 in /usr/local/lib/python3.6/dist-packages (from requests~=2.16->msrest>=0.6.18->azure-storage-blob) (1.24.3)\n",
            "Requirement already satisfied: pycparser in /usr/local/lib/python3.6/dist-packages (from cffi>=1.12->cryptography>=2.1.4->azure-storage-blob) (2.20)\n",
            "Installing collected packages: isodate, msrest, azure-core, cryptography, azure-storage-blob\n",
            "Successfully installed azure-core-1.11.0 azure-storage-blob-12.7.1 cryptography-3.4.6 isodate-0.6.0 msrest-0.6.21\n"
          ],
          "name": "stdout"
        }
      ]
    },
    {
      "cell_type": "code",
      "metadata": {
        "id": "Wp9bH2HZFNyR",
        "colab": {
          "base_uri": "https://localhost:8080/"
        },
        "outputId": "ef05ab7e-f210-4027-889a-1a0a806097a4"
      },
      "source": [
        "import os, uuid\r\n",
        "from azure.storage.blob import BlobServiceClient, BlobClient, ContainerClient, __version__\r\n",
        "\r\n",
        "try:\r\n",
        "    print(\"Azure Blob storage v\" + __version__ + \" - Python quickstart sample\")\r\n",
        "    # Quick start code goes here\r\n",
        "except Exception as ex:\r\n",
        "    print('Exception:')\r\n",
        "    print(ex)"
      ],
      "execution_count": null,
      "outputs": [
        {
          "output_type": "stream",
          "text": [
            "Azure Blob storage v12.7.1 - Python quickstart sample\n"
          ],
          "name": "stdout"
        }
      ]
    },
    {
      "cell_type": "code",
      "metadata": {
        "id": "2PNy6oyFMEmm"
      },
      "source": [
        "STORAGEACCOUNTNAME= \"goalpost\"\r\n",
        "STORAGEACCOUNTKEY= \"XxIo41gxOujT4SI/cxe06qYWY4+Xurdj8ErK6rZ1Masa4UO2fJZw/U9iFQKAoXst1do02hv5ZF7B9dVd4YLOyg==\""
      ],
      "execution_count": null,
      "outputs": []
    },
    {
      "cell_type": "code",
      "metadata": {
        "colab": {
          "base_uri": "https://localhost:8080/"
        },
        "id": "WmVJbKcWL9EB",
        "outputId": "410256c9-c034-4cf9-c3ac-e3086ab35af4"
      },
      "source": [
        "connect_str  = 'DefaultEndpointsProtocol=https;AccountName=goalpost;AccountKey=XxIo41gxOujT4SI/cxe06qYWY4+Xurdj8ErK6rZ1Masa4UO2fJZw/U9iFQKAoXst1do02hv5ZF7B9dVd4YLOyg==;EndpointSuffix=core.windows.net'\r\n",
        "!pwd"
      ],
      "execution_count": null,
      "outputs": [
        {
          "output_type": "stream",
          "text": [
            "/content\n"
          ],
          "name": "stdout"
        }
      ]
    },
    {
      "cell_type": "code",
      "metadata": {
        "id": "9B1QSa9Qn0wC"
      },
      "source": [
        "CONTAINERNAMES = [\"train\", \"val\", \"test\"]\r\n",
        "local_file_name = \"_annotations.csv\""
      ],
      "execution_count": null,
      "outputs": []
    },
    {
      "cell_type": "code",
      "metadata": {
        "id": "qXZdpB-2pzCi"
      },
      "source": [
        "blob_service_client = BlobServiceClient.from_connection_string(connect_str)"
      ],
      "execution_count": null,
      "outputs": []
    },
    {
      "cell_type": "code",
      "metadata": {
        "id": "zNIo3GdmpoVH"
      },
      "source": [
        "for c in CONTAINERNAMES:\r\n",
        "    os.mkdir(\"./\" + c)\r\n",
        "    blob_client = blob_service_client.get_blob_client(container=c, blob=local_file_name)\r\n",
        "    with open(\"./\"+c+\"/annots.csv\", \"wb\") as my_blob:\r\n",
        "        blob_data = blob_client.download_blob()\r\n",
        "        blob_data.readinto(my_blob)"
      ],
      "execution_count": null,
      "outputs": []
    },
    {
      "cell_type": "code",
      "metadata": {
        "id": "HbwaZno7Jjcv"
      },
      "source": [
        "import pandas as pd\r\n",
        "import matplotlib.pyplot as plt\r\n",
        "import imageio\r\n",
        "import random"
      ],
      "execution_count": null,
      "outputs": []
    },
    {
      "cell_type": "code",
      "metadata": {
        "id": "Oyj0khzo4VG_"
      },
      "source": [
        "def extract_frame(frame, x, y, h, w):\r\n",
        "    hh = int(h/2)\r\n",
        "    ww = int(w/2)\r\n",
        "    if x>=ww and x<(frame.shape[1]-ww):\r\n",
        "        lx = ww\r\n",
        "    elif x<ww:\r\n",
        "        lx = x\r\n",
        "    else:\r\n",
        "        lx = w-(frame.shape[1]-x)\r\n",
        "    if y>=hh and y<(frame.shape[0]-hh):\r\n",
        "        ly = hh\r\n",
        "    elif y<hh:\r\n",
        "        ly = y\r\n",
        "    else:\r\n",
        "        ly = h-(frame.shape[0]-y)\r\n",
        "    return frame[y-ly:y+h-ly, x-lx:x+w-lx]"
      ],
      "execution_count": null,
      "outputs": []
    },
    {
      "cell_type": "code",
      "metadata": {
        "id": "5BBFCHTmd3fP"
      },
      "source": [
        "def sliding_window(img, win, step):\r\n",
        "    for y in range(0,img.shape[0]-win[1],step):\r\n",
        "        for x in range(0,img.shape[1]-win[0],step):\r\n",
        "            yield (x,y,img[y:y+win[1],x:x+win[0]])"
      ],
      "execution_count": null,
      "outputs": []
    },
    {
      "cell_type": "code",
      "metadata": {
        "id": "l6kn4Eoc6S57"
      },
      "source": [
        "def gaussian_kernel(size, sigma=1):\r\n",
        "    size = int(size) // 2\r\n",
        "    x, y = np.mgrid[-size:size+1, -size:size+1]\r\n",
        "    normal = 1 / (2.0 * np.pi * sigma**2)\r\n",
        "    g =  np.exp(-((x**2 + y**2) / (2.0*sigma**2))) * normal\r\n",
        "    return g"
      ],
      "execution_count": null,
      "outputs": []
    },
    {
      "cell_type": "code",
      "metadata": {
        "id": "cjwwz2z1jvql"
      },
      "source": [
        "from scipy.ndimage.filters import convolve"
      ],
      "execution_count": null,
      "outputs": []
    },
    {
      "cell_type": "code",
      "metadata": {
        "id": "cfrJ3rbAd8W9"
      },
      "source": [
        "def sobel_edges(img):\r\n",
        "    img = rgb2gray(img)\r\n",
        "    Kx = np.array([[-1, 0, 1], [-2, 0, 2], [-1, 0, 1]], np.float32)\r\n",
        "    Ky = np.array([[1, 2, 1], [0, 0, 0], [-1, -2, -1]], np.float32)\r\n",
        "    Ix = convolve(img, Kx)\r\n",
        "    Iy = convolve(img, Ky)\r\n",
        "    return np.hypot(Ix, Iy)"
      ],
      "execution_count": null,
      "outputs": []
    },
    {
      "cell_type": "code",
      "metadata": {
        "id": "iF9Uqrm-rPRL"
      },
      "source": [
        "train = pd.read_csv(\"./train/annots.csv\")\r\n",
        "val = pd.read_csv(\"./val/annots.csv\")\r\n",
        "test = pd.read_csv(\"./test/annots.csv\")"
      ],
      "execution_count": null,
      "outputs": []
    },
    {
      "cell_type": "code",
      "metadata": {
        "colab": {
          "base_uri": "https://localhost:8080/",
          "height": 402
        },
        "id": "7qnEjccW_YKN",
        "outputId": "6f9cf71b-1426-445d-e9d6-3e3cb80cd8ae"
      },
      "source": [
        "train"
      ],
      "execution_count": null,
      "outputs": [
        {
          "output_type": "execute_result",
          "data": {
            "text/html": [
              "<div>\n",
              "<style scoped>\n",
              "    .dataframe tbody tr th:only-of-type {\n",
              "        vertical-align: middle;\n",
              "    }\n",
              "\n",
              "    .dataframe tbody tr th {\n",
              "        vertical-align: top;\n",
              "    }\n",
              "\n",
              "    .dataframe thead th {\n",
              "        text-align: right;\n",
              "    }\n",
              "</style>\n",
              "<table border=\"1\" class=\"dataframe\">\n",
              "  <thead>\n",
              "    <tr style=\"text-align: right;\">\n",
              "      <th></th>\n",
              "      <th>filename</th>\n",
              "      <th>width</th>\n",
              "      <th>height</th>\n",
              "      <th>class</th>\n",
              "      <th>xmin</th>\n",
              "      <th>ymin</th>\n",
              "      <th>xmax</th>\n",
              "      <th>ymax</th>\n",
              "    </tr>\n",
              "  </thead>\n",
              "  <tbody>\n",
              "    <tr>\n",
              "      <th>0</th>\n",
              "      <td>IMG_8721_PNG.rf.004e79b2445b05c5db0ba82051bc4e...</td>\n",
              "      <td>416</td>\n",
              "      <td>416</td>\n",
              "      <td>goal-post</td>\n",
              "      <td>276</td>\n",
              "      <td>68</td>\n",
              "      <td>343</td>\n",
              "      <td>178</td>\n",
              "    </tr>\n",
              "    <tr>\n",
              "      <th>1</th>\n",
              "      <td>IMG_9284_PNG.rf.00b00d7f1ae044f5c5385da8be9e0b...</td>\n",
              "      <td>416</td>\n",
              "      <td>416</td>\n",
              "      <td>goal-post</td>\n",
              "      <td>220</td>\n",
              "      <td>156</td>\n",
              "      <td>313</td>\n",
              "      <td>266</td>\n",
              "    </tr>\n",
              "    <tr>\n",
              "      <th>2</th>\n",
              "      <td>IMG_9088_PNG.rf.01909db3d58348af710abb4279f4b8...</td>\n",
              "      <td>416</td>\n",
              "      <td>416</td>\n",
              "      <td>goal-post</td>\n",
              "      <td>238</td>\n",
              "      <td>11</td>\n",
              "      <td>288</td>\n",
              "      <td>69</td>\n",
              "    </tr>\n",
              "    <tr>\n",
              "      <th>3</th>\n",
              "      <td>IMG_8587_PNG.rf.01ae09f35dfcf3356c00251e5739dc...</td>\n",
              "      <td>416</td>\n",
              "      <td>416</td>\n",
              "      <td>goal-post</td>\n",
              "      <td>318</td>\n",
              "      <td>71</td>\n",
              "      <td>379</td>\n",
              "      <td>247</td>\n",
              "    </tr>\n",
              "    <tr>\n",
              "      <th>4</th>\n",
              "      <td>IMG_8916_PNG.rf.02516219c14c025a7f2c9ecba288bf...</td>\n",
              "      <td>416</td>\n",
              "      <td>416</td>\n",
              "      <td>goal-post</td>\n",
              "      <td>79</td>\n",
              "      <td>143</td>\n",
              "      <td>120</td>\n",
              "      <td>205</td>\n",
              "    </tr>\n",
              "    <tr>\n",
              "      <th>...</th>\n",
              "      <td>...</td>\n",
              "      <td>...</td>\n",
              "      <td>...</td>\n",
              "      <td>...</td>\n",
              "      <td>...</td>\n",
              "      <td>...</td>\n",
              "      <td>...</td>\n",
              "      <td>...</td>\n",
              "    </tr>\n",
              "    <tr>\n",
              "      <th>667</th>\n",
              "      <td>IMG_8801_PNG.rf.f148a62ad122b2dc8d14bfbae2a2ff...</td>\n",
              "      <td>416</td>\n",
              "      <td>416</td>\n",
              "      <td>goal-post</td>\n",
              "      <td>189</td>\n",
              "      <td>105</td>\n",
              "      <td>269</td>\n",
              "      <td>183</td>\n",
              "    </tr>\n",
              "    <tr>\n",
              "      <th>668</th>\n",
              "      <td>IMG_8442_PNG.rf.f15c590c08b005bfa53fdbfe207f04...</td>\n",
              "      <td>416</td>\n",
              "      <td>416</td>\n",
              "      <td>goal-post</td>\n",
              "      <td>233</td>\n",
              "      <td>115</td>\n",
              "      <td>312</td>\n",
              "      <td>226</td>\n",
              "    </tr>\n",
              "    <tr>\n",
              "      <th>669</th>\n",
              "      <td>IMG_8924_PNG.rf.f170989845ba01bcb005e45113f4fc...</td>\n",
              "      <td>416</td>\n",
              "      <td>416</td>\n",
              "      <td>goal-post</td>\n",
              "      <td>91</td>\n",
              "      <td>156</td>\n",
              "      <td>146</td>\n",
              "      <td>235</td>\n",
              "    </tr>\n",
              "    <tr>\n",
              "      <th>670</th>\n",
              "      <td>IMG_8795_PNG.rf.f1937ac461f1ad98407579df3b3f1d...</td>\n",
              "      <td>416</td>\n",
              "      <td>416</td>\n",
              "      <td>goal-post</td>\n",
              "      <td>127</td>\n",
              "      <td>47</td>\n",
              "      <td>204</td>\n",
              "      <td>146</td>\n",
              "    </tr>\n",
              "    <tr>\n",
              "      <th>671</th>\n",
              "      <td>IMG_8811_PNG.rf.f1fa8d1584b39a6c503ac4bd147764...</td>\n",
              "      <td>416</td>\n",
              "      <td>416</td>\n",
              "      <td>goal-post</td>\n",
              "      <td>161</td>\n",
              "      <td>88</td>\n",
              "      <td>261</td>\n",
              "      <td>189</td>\n",
              "    </tr>\n",
              "  </tbody>\n",
              "</table>\n",
              "<p>672 rows × 8 columns</p>\n",
              "</div>"
            ],
            "text/plain": [
              "                                              filename  width  ...  xmax ymax\n",
              "0    IMG_8721_PNG.rf.004e79b2445b05c5db0ba82051bc4e...    416  ...   343  178\n",
              "1    IMG_9284_PNG.rf.00b00d7f1ae044f5c5385da8be9e0b...    416  ...   313  266\n",
              "2    IMG_9088_PNG.rf.01909db3d58348af710abb4279f4b8...    416  ...   288   69\n",
              "3    IMG_8587_PNG.rf.01ae09f35dfcf3356c00251e5739dc...    416  ...   379  247\n",
              "4    IMG_8916_PNG.rf.02516219c14c025a7f2c9ecba288bf...    416  ...   120  205\n",
              "..                                                 ...    ...  ...   ...  ...\n",
              "667  IMG_8801_PNG.rf.f148a62ad122b2dc8d14bfbae2a2ff...    416  ...   269  183\n",
              "668  IMG_8442_PNG.rf.f15c590c08b005bfa53fdbfe207f04...    416  ...   312  226\n",
              "669  IMG_8924_PNG.rf.f170989845ba01bcb005e45113f4fc...    416  ...   146  235\n",
              "670  IMG_8795_PNG.rf.f1937ac461f1ad98407579df3b3f1d...    416  ...   204  146\n",
              "671  IMG_8811_PNG.rf.f1fa8d1584b39a6c503ac4bd147764...    416  ...   261  189\n",
              "\n",
              "[672 rows x 8 columns]"
            ]
          },
          "metadata": {
            "tags": []
          },
          "execution_count": 16
        }
      ]
    },
    {
      "cell_type": "code",
      "metadata": {
        "id": "yNLjJve8YqYR"
      },
      "source": [
        "train['x'] = (train['xmin'] + train['xmax'])/2\r\n",
        "train['x'] = [int(t) for t in train['x']]\r\n",
        "val['x'] = (val['xmin'] + val['xmax'])/2\r\n",
        "val['x'] = [int(t) for t in val['x']]\r\n",
        "test['x'] = (test['xmin'] + test['xmax'])/2\r\n",
        "test['x'] = [int(t) for t in test['x']]\r\n",
        "train['y'] = (train['ymin'] + train['ymax'])/2\r\n",
        "train['y'] = [int(t) for t in train['y']]\r\n",
        "val['y'] = (val['ymin'] + val['ymax'])/2\r\n",
        "val['y'] = [int(t) for t in val['y']]\r\n",
        "test['y'] = (test['ymin'] + test['ymax'])/2\r\n",
        "test['y'] = [int(t) for t in test['y']]"
      ],
      "execution_count": null,
      "outputs": []
    },
    {
      "cell_type": "code",
      "metadata": {
        "id": "Mpp4xHCLaQ5v"
      },
      "source": [
        "train['w'] = train['xmax'] - train['xmin']\r\n",
        "val['w'] = val['xmax'] - val['xmin']\r\n",
        "test['w'] = test['xmax'] - test['xmin']\r\n",
        "train['h'] = train['ymax'] - train['ymin']\r\n",
        "val['h'] = val['ymax'] - val['ymin']\r\n",
        "test['h'] = test['ymax'] - test['ymin']"
      ],
      "execution_count": null,
      "outputs": []
    },
    {
      "cell_type": "code",
      "metadata": {
        "id": "MfNI1XgUeeXb"
      },
      "source": [
        "train['s'] = np.max([train['w'], train['h']], axis=0)\r\n",
        "test['s'] = np.max([test['w'], test['h']], axis=0)\r\n",
        "val['s'] = np.max([val['w'], val['h']], axis=0)"
      ],
      "execution_count": null,
      "outputs": []
    },
    {
      "cell_type": "code",
      "metadata": {
        "id": "ytXONqMTv2HK"
      },
      "source": [
        "train['l'] = [100*(1+int(t/100)) for t in train['s']]\r\n",
        "val['l'] = [100*(1+int(t/100)) for t in val['s']]\r\n",
        "test['l'] = [100*(1+int(t/100)) for t in test['s']]"
      ],
      "execution_count": null,
      "outputs": []
    },
    {
      "cell_type": "code",
      "metadata": {
        "colab": {
          "base_uri": "https://localhost:8080/",
          "height": 402
        },
        "id": "XVnFP5xgZCr1",
        "outputId": "16458808-6fb0-4cf0-d0e8-8d5ac684d189"
      },
      "source": [
        "test"
      ],
      "execution_count": null,
      "outputs": [
        {
          "output_type": "execute_result",
          "data": {
            "text/html": [
              "<div>\n",
              "<style scoped>\n",
              "    .dataframe tbody tr th:only-of-type {\n",
              "        vertical-align: middle;\n",
              "    }\n",
              "\n",
              "    .dataframe tbody tr th {\n",
              "        vertical-align: top;\n",
              "    }\n",
              "\n",
              "    .dataframe thead th {\n",
              "        text-align: right;\n",
              "    }\n",
              "</style>\n",
              "<table border=\"1\" class=\"dataframe\">\n",
              "  <thead>\n",
              "    <tr style=\"text-align: right;\">\n",
              "      <th></th>\n",
              "      <th>filename</th>\n",
              "      <th>width</th>\n",
              "      <th>height</th>\n",
              "      <th>class</th>\n",
              "      <th>xmin</th>\n",
              "      <th>ymin</th>\n",
              "      <th>xmax</th>\n",
              "      <th>ymax</th>\n",
              "      <th>x</th>\n",
              "      <th>y</th>\n",
              "      <th>w</th>\n",
              "      <th>h</th>\n",
              "      <th>s</th>\n",
              "      <th>l</th>\n",
              "    </tr>\n",
              "  </thead>\n",
              "  <tbody>\n",
              "    <tr>\n",
              "      <th>0</th>\n",
              "      <td>IMG_9089_PNG.rf.00ab560bb364b53c873a80f2547d12...</td>\n",
              "      <td>416</td>\n",
              "      <td>416</td>\n",
              "      <td>goal-post</td>\n",
              "      <td>235</td>\n",
              "      <td>13</td>\n",
              "      <td>288</td>\n",
              "      <td>70</td>\n",
              "      <td>261</td>\n",
              "      <td>41</td>\n",
              "      <td>53</td>\n",
              "      <td>57</td>\n",
              "      <td>57</td>\n",
              "      <td>100</td>\n",
              "    </tr>\n",
              "    <tr>\n",
              "      <th>1</th>\n",
              "      <td>IMG_9350_PNG.rf.07e58ed106037c0d405adb22cde008...</td>\n",
              "      <td>416</td>\n",
              "      <td>416</td>\n",
              "      <td>goal-post</td>\n",
              "      <td>240</td>\n",
              "      <td>141</td>\n",
              "      <td>326</td>\n",
              "      <td>253</td>\n",
              "      <td>283</td>\n",
              "      <td>197</td>\n",
              "      <td>86</td>\n",
              "      <td>112</td>\n",
              "      <td>112</td>\n",
              "      <td>200</td>\n",
              "    </tr>\n",
              "    <tr>\n",
              "      <th>2</th>\n",
              "      <td>IMG_8672_PNG.rf.04119303312cd6e6fa29f38232352e...</td>\n",
              "      <td>416</td>\n",
              "      <td>416</td>\n",
              "      <td>goal-post</td>\n",
              "      <td>163</td>\n",
              "      <td>134</td>\n",
              "      <td>223</td>\n",
              "      <td>212</td>\n",
              "      <td>193</td>\n",
              "      <td>173</td>\n",
              "      <td>60</td>\n",
              "      <td>78</td>\n",
              "      <td>78</td>\n",
              "      <td>100</td>\n",
              "    </tr>\n",
              "    <tr>\n",
              "      <th>3</th>\n",
              "      <td>IMG_8376_PNG.rf.15675f18a5c9fc7fd845aadc0b3f46...</td>\n",
              "      <td>416</td>\n",
              "      <td>416</td>\n",
              "      <td>goal-post</td>\n",
              "      <td>223</td>\n",
              "      <td>111</td>\n",
              "      <td>337</td>\n",
              "      <td>262</td>\n",
              "      <td>280</td>\n",
              "      <td>186</td>\n",
              "      <td>114</td>\n",
              "      <td>151</td>\n",
              "      <td>151</td>\n",
              "      <td>200</td>\n",
              "    </tr>\n",
              "    <tr>\n",
              "      <th>4</th>\n",
              "      <td>IMG_8393_PNG.rf.0de070a9786c1bfbc56f8c55aa9595...</td>\n",
              "      <td>416</td>\n",
              "      <td>416</td>\n",
              "      <td>goal-post</td>\n",
              "      <td>131</td>\n",
              "      <td>115</td>\n",
              "      <td>209</td>\n",
              "      <td>311</td>\n",
              "      <td>170</td>\n",
              "      <td>213</td>\n",
              "      <td>78</td>\n",
              "      <td>196</td>\n",
              "      <td>196</td>\n",
              "      <td>200</td>\n",
              "    </tr>\n",
              "    <tr>\n",
              "      <th>...</th>\n",
              "      <td>...</td>\n",
              "      <td>...</td>\n",
              "      <td>...</td>\n",
              "      <td>...</td>\n",
              "      <td>...</td>\n",
              "      <td>...</td>\n",
              "      <td>...</td>\n",
              "      <td>...</td>\n",
              "      <td>...</td>\n",
              "      <td>...</td>\n",
              "      <td>...</td>\n",
              "      <td>...</td>\n",
              "      <td>...</td>\n",
              "      <td>...</td>\n",
              "    </tr>\n",
              "    <tr>\n",
              "      <th>92</th>\n",
              "      <td>IMG_8967_PNG.rf.eff978379b8b07ea03c00c1623a557...</td>\n",
              "      <td>416</td>\n",
              "      <td>416</td>\n",
              "      <td>goal-post</td>\n",
              "      <td>111</td>\n",
              "      <td>37</td>\n",
              "      <td>175</td>\n",
              "      <td>136</td>\n",
              "      <td>143</td>\n",
              "      <td>86</td>\n",
              "      <td>64</td>\n",
              "      <td>99</td>\n",
              "      <td>99</td>\n",
              "      <td>100</td>\n",
              "    </tr>\n",
              "    <tr>\n",
              "      <th>93</th>\n",
              "      <td>IMG_8548_PNG.rf.f66595b3a7d5d65848ce21689fb56b...</td>\n",
              "      <td>416</td>\n",
              "      <td>416</td>\n",
              "      <td>goal-post</td>\n",
              "      <td>261</td>\n",
              "      <td>113</td>\n",
              "      <td>339</td>\n",
              "      <td>214</td>\n",
              "      <td>300</td>\n",
              "      <td>163</td>\n",
              "      <td>78</td>\n",
              "      <td>101</td>\n",
              "      <td>101</td>\n",
              "      <td>200</td>\n",
              "    </tr>\n",
              "    <tr>\n",
              "      <th>94</th>\n",
              "      <td>IMG_9097_PNG.rf.f66b63aa59542391638d637d1a3cff...</td>\n",
              "      <td>416</td>\n",
              "      <td>416</td>\n",
              "      <td>goal-post</td>\n",
              "      <td>45</td>\n",
              "      <td>100</td>\n",
              "      <td>146</td>\n",
              "      <td>215</td>\n",
              "      <td>95</td>\n",
              "      <td>157</td>\n",
              "      <td>101</td>\n",
              "      <td>115</td>\n",
              "      <td>115</td>\n",
              "      <td>200</td>\n",
              "    </tr>\n",
              "    <tr>\n",
              "      <th>95</th>\n",
              "      <td>IMG_9090_PNG.rf.ddd6e90aa2f7141c1df21ad3ecd738...</td>\n",
              "      <td>416</td>\n",
              "      <td>416</td>\n",
              "      <td>goal-post</td>\n",
              "      <td>236</td>\n",
              "      <td>12</td>\n",
              "      <td>286</td>\n",
              "      <td>72</td>\n",
              "      <td>261</td>\n",
              "      <td>42</td>\n",
              "      <td>50</td>\n",
              "      <td>60</td>\n",
              "      <td>60</td>\n",
              "      <td>100</td>\n",
              "    </tr>\n",
              "    <tr>\n",
              "      <th>96</th>\n",
              "      <td>IMG_8641_PNG.rf.fe05537ff8d580e8bbe44be7f6f3cb...</td>\n",
              "      <td>416</td>\n",
              "      <td>416</td>\n",
              "      <td>goal-post</td>\n",
              "      <td>81</td>\n",
              "      <td>138</td>\n",
              "      <td>156</td>\n",
              "      <td>263</td>\n",
              "      <td>118</td>\n",
              "      <td>200</td>\n",
              "      <td>75</td>\n",
              "      <td>125</td>\n",
              "      <td>125</td>\n",
              "      <td>200</td>\n",
              "    </tr>\n",
              "  </tbody>\n",
              "</table>\n",
              "<p>97 rows × 14 columns</p>\n",
              "</div>"
            ],
            "text/plain": [
              "                                             filename  width  ...    s    l\n",
              "0   IMG_9089_PNG.rf.00ab560bb364b53c873a80f2547d12...    416  ...   57  100\n",
              "1   IMG_9350_PNG.rf.07e58ed106037c0d405adb22cde008...    416  ...  112  200\n",
              "2   IMG_8672_PNG.rf.04119303312cd6e6fa29f38232352e...    416  ...   78  100\n",
              "3   IMG_8376_PNG.rf.15675f18a5c9fc7fd845aadc0b3f46...    416  ...  151  200\n",
              "4   IMG_8393_PNG.rf.0de070a9786c1bfbc56f8c55aa9595...    416  ...  196  200\n",
              "..                                                ...    ...  ...  ...  ...\n",
              "92  IMG_8967_PNG.rf.eff978379b8b07ea03c00c1623a557...    416  ...   99  100\n",
              "93  IMG_8548_PNG.rf.f66595b3a7d5d65848ce21689fb56b...    416  ...  101  200\n",
              "94  IMG_9097_PNG.rf.f66b63aa59542391638d637d1a3cff...    416  ...  115  200\n",
              "95  IMG_9090_PNG.rf.ddd6e90aa2f7141c1df21ad3ecd738...    416  ...   60  100\n",
              "96  IMG_8641_PNG.rf.fe05537ff8d580e8bbe44be7f6f3cb...    416  ...  125  200\n",
              "\n",
              "[97 rows x 14 columns]"
            ]
          },
          "metadata": {
            "tags": []
          },
          "execution_count": 21
        }
      ]
    },
    {
      "cell_type": "code",
      "metadata": {
        "colab": {
          "base_uri": "https://localhost:8080/"
        },
        "id": "7MHmqOE4rf1I",
        "outputId": "17b361c6-d59b-42fe-ee77-27f22c2058e3"
      },
      "source": [
        "train_img = []\r\n",
        "for f in train['filename']:\r\n",
        "    c = \"train\"\r\n",
        "    blob_client = blob_service_client.get_blob_client(container=c, blob=f)\r\n",
        "    with open(\"./train/\"+f, \"wb\") as my_blob:\r\n",
        "        blob_data = blob_client.download_blob()\r\n",
        "        blob_data.readinto(my_blob)\r\n",
        "    t = plt.imread(\"./train/\"+f)\r\n",
        "    train_img.append(t)\r\n",
        "len(train_img)"
      ],
      "execution_count": null,
      "outputs": [
        {
          "output_type": "execute_result",
          "data": {
            "text/plain": [
              "672"
            ]
          },
          "metadata": {
            "tags": []
          },
          "execution_count": 22
        }
      ]
    },
    {
      "cell_type": "code",
      "metadata": {
        "id": "-lyh0H_Uh1Zw",
        "colab": {
          "base_uri": "https://localhost:8080/"
        },
        "outputId": "abd7202e-29fd-4e9e-b2a5-6da9f83b108b"
      },
      "source": [
        "np.max(train['h'])"
      ],
      "execution_count": null,
      "outputs": [
        {
          "output_type": "execute_result",
          "data": {
            "text/plain": [
              "323"
            ]
          },
          "metadata": {
            "tags": []
          },
          "execution_count": 23
        }
      ]
    },
    {
      "cell_type": "code",
      "metadata": {
        "colab": {
          "base_uri": "https://localhost:8080/",
          "height": 286
        },
        "id": "zlSnDG1F6GpC",
        "outputId": "87fe357a-398e-40e3-e420-4366eface42c"
      },
      "source": [
        "plt.imshow(train_img[0])"
      ],
      "execution_count": null,
      "outputs": [
        {
          "output_type": "execute_result",
          "data": {
            "text/plain": [
              "<matplotlib.image.AxesImage at 0x7fe63777d358>"
            ]
          },
          "metadata": {
            "tags": []
          },
          "execution_count": 24
        },
        {
          "output_type": "display_data",
          "data": {
            "image/png": "[encoded data removed]",
            "text/plain": [
              "<Figure size 432x288 with 1 Axes>"
            ]
          },
          "metadata": {
            "tags": [],
            "needs_background": "light"
          }
        }
      ]
    },
    {
      "cell_type": "code",
      "metadata": {
        "colab": {
          "base_uri": "https://localhost:8080/"
        },
        "id": "-sgTRRZvusC1",
        "outputId": "7b1000fd-7bd0-4f61-eb0c-0c6acffca4d8"
      },
      "source": [
        "val_img = []\r\n",
        "for f in val['filename']:\r\n",
        "    c = \"val\"\r\n",
        "    blob_client = blob_service_client.get_blob_client(container=c, blob=f)\r\n",
        "    with open(\"./val/\"+f, \"wb\") as my_blob:\r\n",
        "        blob_data = blob_client.download_blob()\r\n",
        "        blob_data.readinto(my_blob)\r\n",
        "    t = plt.imread(\"./val/\"+f)\r\n",
        "    val_img.append(t)\r\n",
        "len(val_img)"
      ],
      "execution_count": null,
      "outputs": [
        {
          "output_type": "execute_result",
          "data": {
            "text/plain": [
              "191"
            ]
          },
          "metadata": {
            "tags": []
          },
          "execution_count": 25
        }
      ]
    },
    {
      "cell_type": "code",
      "metadata": {
        "id": "GTu8wUoOC_fR",
        "colab": {
          "base_uri": "https://localhost:8080/"
        },
        "outputId": "dc8d1071-7848-4c1b-b71f-d32616fc8526"
      },
      "source": [
        "test_img = []\r\n",
        "for f in test['filename']:\r\n",
        "    c = \"test\"\r\n",
        "    blob_client = blob_service_client.get_blob_client(container=c, blob=f)\r\n",
        "    with open(\"./test/\"+f, \"wb\") as my_blob:\r\n",
        "        blob_data = blob_client.download_blob()\r\n",
        "        blob_data.readinto(my_blob)\r\n",
        "    t = plt.imread(\"./test/\"+f)\r\n",
        "    test_img.append(t)\r\n",
        "len(test_img)"
      ],
      "execution_count": null,
      "outputs": [
        {
          "output_type": "execute_result",
          "data": {
            "text/plain": [
              "97"
            ]
          },
          "metadata": {
            "tags": []
          },
          "execution_count": 26
        }
      ]
    },
    {
      "cell_type": "code",
      "metadata": {
        "id": "WeixkmQZ1VWI"
      },
      "source": [
        "import cv2"
      ],
      "execution_count": null,
      "outputs": []
    },
    {
      "cell_type": "code",
      "metadata": {
        "colab": {
          "base_uri": "https://localhost:8080/",
          "height": 286
        },
        "id": "6Z1N2Dyrw9dV",
        "outputId": "8186333e-175a-4271-dcc3-474d699e158a"
      },
      "source": [
        "i = 600\r\n",
        "clone = train_img[i].copy()\r\n",
        "x = train['x'][i]\r\n",
        "y = train['y'][i]\r\n",
        "l = int(train['l'][i]/2)\r\n",
        "cv2.rectangle(clone, (train['xmin'][i],train['ymin'][i]), (train['xmax'][i],train['ymax'][i]), (255,0,0), 2)\r\n",
        "cv2.rectangle(clone, (x-l,y-l), (x+l,y+l), (0,0,255), 2)\r\n",
        "plt.imshow(clone)"
      ],
      "execution_count": null,
      "outputs": [
        {
          "output_type": "execute_result",
          "data": {
            "text/plain": [
              "<matplotlib.image.AxesImage at 0x7fe62ca504a8>"
            ]
          },
          "metadata": {
            "tags": []
          },
          "execution_count": 28
        },
        {
          "output_type": "display_data",
          "data": {
            "image/png": "[encoded data removed]",
            "text/plain": [
              "<Figure size 432x288 with 1 Axes>"
            ]
          },
          "metadata": {
            "tags": [],
            "needs_background": "light"
          }
        }
      ]
    },
    {
      "cell_type": "code",
      "metadata": {
        "colab": {
          "base_uri": "https://localhost:8080/"
        },
        "id": "zhrnNuSW9W-x",
        "outputId": "cfda76fb-c431-42b0-9865-291fd865d7b8"
      },
      "source": [
        "len(train)"
      ],
      "execution_count": null,
      "outputs": [
        {
          "output_type": "execute_result",
          "data": {
            "text/plain": [
              "672"
            ]
          },
          "metadata": {
            "tags": []
          },
          "execution_count": 29
        }
      ]
    },
    {
      "cell_type": "code",
      "metadata": {
        "id": "7yjXSI98N9YL"
      },
      "source": [
        "import pickle"
      ],
      "execution_count": null,
      "outputs": []
    },
    {
      "cell_type": "code",
      "metadata": {
        "id": "8lyDdYFbNn8U"
      },
      "source": [
        "with open ('/content/drive/MyDrive/Datasets/ISSIA/data/tx', 'rb') as fp:\r\n",
        "    tx = pickle.load(fp)\r\n",
        "with open ('/content/drive/MyDrive/Datasets/ISSIA/data/ty', 'rb') as fp:\r\n",
        "    ty = pickle.load(fp)"
      ],
      "execution_count": null,
      "outputs": []
    },
    {
      "cell_type": "code",
      "metadata": {
        "id": "o1moIxO-0PGp"
      },
      "source": [
        "import random\r\n",
        "import skimage\r\n",
        "from skimage.transform import resize\r\n",
        "from skimage.color import rgb2gray"
      ],
      "execution_count": null,
      "outputs": []
    },
    {
      "cell_type": "code",
      "metadata": {
        "id": "H2ec0torXlWt"
      },
      "source": [
        "os.mkdir(\"./videos\")"
      ],
      "execution_count": null,
      "outputs": []
    },
    {
      "cell_type": "code",
      "metadata": {
        "id": "5vdPgu-RXrop"
      },
      "source": [
        "os.mkdir(\"./annots\")"
      ],
      "execution_count": null,
      "outputs": []
    },
    {
      "cell_type": "code",
      "metadata": {
        "id": "7xpbR2968OMQ"
      },
      "source": [
        "STORAGEACCOUNTNAME= \"issia\"\r\n",
        "STORAGEACCOUNTKEY= \"I8mH/fx5qd+6XxC3qF2K9V/pqZZMmEr+FA7p18pZz+QVXJEuRuWLvXQ07aWmd4LdSdAbVgu/qLy0ioS9etnwCg==\"\r\n",
        "CONTAINERNAME= \"videos\""
      ],
      "execution_count": null,
      "outputs": []
    },
    {
      "cell_type": "code",
      "metadata": {
        "colab": {
          "base_uri": "https://localhost:8080/"
        },
        "id": "mQTw18W48OMQ",
        "outputId": "d2e2379b-a01a-4c3f-97dc-042ef8993175"
      },
      "source": [
        " connect_str  = 'DefaultEndpointsProtocol=https;AccountName=issia;AccountKey=I8mH/fx5qd+6XxC3qF2K9V/pqZZMmEr+FA7p18pZz+QVXJEuRuWLvXQ07aWmd4LdSdAbVgu/qLy0ioS9etnwCg==;EndpointSuffix=core.windows.net'\r\n",
        "!pwd"
      ],
      "execution_count": null,
      "outputs": [
        {
          "output_type": "stream",
          "text": [
            "/content\n"
          ],
          "name": "stdout"
        }
      ]
    },
    {
      "cell_type": "code",
      "metadata": {
        "id": "kO52DHV4MJM3"
      },
      "source": [
        "blob_service_client = BlobServiceClient.from_connection_string(connect_str)"
      ],
      "execution_count": null,
      "outputs": []
    },
    {
      "cell_type": "code",
      "metadata": {
        "id": "0kkIyB5AQmjY"
      },
      "source": [
        "for i in range(6):\r\n",
        "    local_file_name = \"Cam-\" + str(i+1) + \".mp4\"\r\n",
        "    blob_client = blob_service_client.get_blob_client(container=CONTAINERNAME, blob=local_file_name)\r\n",
        "    t = \"./videos/Cam-\" + str(i+1) + \".mp4\"\r\n",
        "    with open(t, \"wb\") as my_blob:\r\n",
        "        blob_data = blob_client.download_blob()\r\n",
        "        blob_data.readinto(my_blob)"
      ],
      "execution_count": null,
      "outputs": []
    },
    {
      "cell_type": "code",
      "metadata": {
        "id": "gtVkSV_dW9ar"
      },
      "source": [
        "STORAGEACCOUNTNAME= \"issia\"\r\n",
        "STORAGEACCOUNTKEY= \"I8mH/fx5qd+6XxC3qF2K9V/pqZZMmEr+FA7p18pZz+QVXJEuRuWLvXQ07aWmd4LdSdAbVgu/qLy0ioS9etnwCg==\"\r\n",
        "CONTAINERNAME= \"annots\""
      ],
      "execution_count": null,
      "outputs": []
    },
    {
      "cell_type": "code",
      "metadata": {
        "colab": {
          "base_uri": "https://localhost:8080/"
        },
        "id": "kDoOGAv4W9bI",
        "outputId": "72298a3c-8d03-4508-ee0e-163e322d4f9f"
      },
      "source": [
        "connect_str  = 'DefaultEndpointsProtocol=https;AccountName=issia;AccountKey=I8mH/fx5qd+6XxC3qF2K9V/pqZZMmEr+FA7p18pZz+QVXJEuRuWLvXQ07aWmd4LdSdAbVgu/qLy0ioS9etnwCg==;EndpointSuffix=core.windows.net'\r\n",
        "!pwd"
      ],
      "execution_count": null,
      "outputs": [
        {
          "output_type": "stream",
          "text": [
            "/content\n"
          ],
          "name": "stdout"
        }
      ]
    },
    {
      "cell_type": "code",
      "metadata": {
        "id": "ENkbE0gWW9bO"
      },
      "source": [
        "blob_service_client = BlobServiceClient.from_connection_string(connect_str)"
      ],
      "execution_count": null,
      "outputs": []
    },
    {
      "cell_type": "code",
      "metadata": {
        "id": "HD52m1UgW9bc"
      },
      "source": [
        "for i in range(6):\r\n",
        "    local_file_name = \"Cam-\" + str(i+1) + \".csv\"\r\n",
        "    blob_client = blob_service_client.get_blob_client(container=CONTAINERNAME, blob=local_file_name)\r\n",
        "    t = \"./annots/Cam-\" + str(i+1) + \".csv\"\r\n",
        "    with open(t, \"wb\") as my_blob:\r\n",
        "        blob_data = blob_client.download_blob()\r\n",
        "        blob_data.readinto(my_blob)"
      ],
      "execution_count": null,
      "outputs": []
    },
    {
      "cell_type": "code",
      "metadata": {
        "id": "_y-aX_JH8seD"
      },
      "source": [
        "vid = []\r\n",
        "for i in range(6):\r\n",
        "    t = imageio.get_reader(\"./videos/Cam-\" + str(i+1) + \".mp4\")\r\n",
        "    vid.append(t)"
      ],
      "execution_count": null,
      "outputs": []
    },
    {
      "cell_type": "code",
      "metadata": {
        "colab": {
          "base_uri": "https://localhost:8080/"
        },
        "id": "uy2d4UpN-lYK",
        "outputId": "9a6f4ddd-e53a-4993-f83f-69dd27fdab8e"
      },
      "source": [
        "vid[0].get_data(0).shape"
      ],
      "execution_count": null,
      "outputs": [
        {
          "output_type": "execute_result",
          "data": {
            "text/plain": [
              "(1088, 1920, 3)"
            ]
          },
          "metadata": {
            "tags": []
          },
          "execution_count": 46
        }
      ]
    },
    {
      "cell_type": "code",
      "metadata": {
        "id": "vddTu0qhMOIq"
      },
      "source": [
        "gx = []\r\n",
        "gy = []"
      ],
      "execution_count": null,
      "outputs": []
    },
    {
      "cell_type": "code",
      "metadata": {
        "colab": {
          "base_uri": "https://localhost:8080/"
        },
        "id": "RMdSyy-DxSzf",
        "outputId": "234690e1-b386-4e03-c5b5-c7ff82b02969"
      },
      "source": [
        "for i in range(len(train)):\r\n",
        "    t = train_img[i]\r\n",
        "    x = train['x'][i]\r\n",
        "    y = train['y'][i]\r\n",
        "    l = train['l'][i]\r\n",
        "    t = extract_frame(t, x, y, l, l)\r\n",
        "    t = resize(t, (100,100))\r\n",
        "    gx.append(rgb2gray(t))\r\n",
        "    gy.append(1)\r\n",
        "    f = random.choice(vid)\r\n",
        "    j = random.randint(0,2995)\r\n",
        "    f = f.get_data(j)\r\n",
        "    x = random.randint(0,1919)\r\n",
        "    y = random.randint(0,1079)\r\n",
        "    t = extract_frame(f, x, y, 500,500)\r\n",
        "    t = resize(t, (100,100))\r\n",
        "    gx.append(rgb2gray(t))\r\n",
        "    gy.append(0)\r\n",
        "    print(len(gx), len(gy))"
      ],
      "execution_count": null,
      "outputs": [
        {
          "output_type": "stream",
          "text": [
            "2 2\n",
            "4 4\n",
            "6 6\n",
            "8 8\n",
            "10 10\n",
            "12 12\n",
            "14 14\n",
            "16 16\n",
            "18 18\n",
            "20 20\n",
            "22 22\n",
            "24 24\n",
            "26 26\n",
            "28 28\n",
            "30 30\n",
            "32 32\n",
            "34 34\n",
            "36 36\n",
            "38 38\n",
            "40 40\n",
            "42 42\n",
            "44 44\n",
            "46 46\n",
            "48 48\n",
            "50 50\n",
            "52 52\n",
            "54 54\n",
            "56 56\n",
            "58 58\n",
            "60 60\n",
            "62 62\n",
            "64 64\n",
            "66 66\n",
            "68 68\n",
            "70 70\n",
            "72 72\n",
            "74 74\n",
            "76 76\n",
            "78 78\n",
            "80 80\n",
            "82 82\n",
            "84 84\n",
            "86 86\n",
            "88 88\n",
            "90 90\n",
            "92 92\n",
            "94 94\n",
            "96 96\n",
            "98 98\n",
            "100 100\n",
            "102 102\n",
            "104 104\n",
            "106 106\n",
            "108 108\n",
            "110 110\n",
            "112 112\n",
            "114 114\n",
            "116 116\n",
            "118 118\n",
            "120 120\n",
            "122 122\n",
            "124 124\n",
            "126 126\n",
            "128 128\n",
            "130 130\n",
            "132 132\n",
            "134 134\n",
            "136 136\n",
            "138 138\n",
            "140 140\n",
            "142 142\n",
            "144 144\n",
            "146 146\n",
            "148 148\n",
            "150 150\n",
            "152 152\n",
            "154 154\n",
            "156 156\n",
            "158 158\n",
            "160 160\n",
            "162 162\n",
            "164 164\n",
            "166 166\n",
            "168 168\n",
            "170 170\n",
            "172 172\n",
            "174 174\n",
            "176 176\n",
            "178 178\n",
            "180 180\n",
            "182 182\n",
            "184 184\n",
            "186 186\n",
            "188 188\n",
            "190 190\n",
            "192 192\n",
            "194 194\n",
            "196 196\n",
            "198 198\n",
            "200 200\n",
            "202 202\n",
            "204 204\n",
            "206 206\n",
            "208 208\n",
            "210 210\n",
            "212 212\n",
            "214 214\n",
            "216 216\n",
            "218 218\n",
            "220 220\n",
            "222 222\n",
            "224 224\n",
            "226 226\n",
            "228 228\n",
            "230 230\n",
            "232 232\n",
            "234 234\n",
            "236 236\n",
            "238 238\n",
            "240 240\n",
            "242 242\n",
            "244 244\n",
            "246 246\n",
            "248 248\n",
            "250 250\n",
            "252 252\n",
            "254 254\n",
            "256 256\n",
            "258 258\n",
            "260 260\n",
            "262 262\n",
            "264 264\n",
            "266 266\n",
            "268 268\n",
            "270 270\n",
            "272 272\n",
            "274 274\n",
            "276 276\n",
            "278 278\n",
            "280 280\n",
            "282 282\n",
            "284 284\n",
            "286 286\n",
            "288 288\n",
            "290 290\n",
            "292 292\n",
            "294 294\n",
            "296 296\n",
            "298 298\n",
            "300 300\n",
            "302 302\n",
            "304 304\n",
            "306 306\n",
            "308 308\n",
            "310 310\n",
            "312 312\n",
            "314 314\n",
            "316 316\n",
            "318 318\n",
            "320 320\n",
            "322 322\n",
            "324 324\n",
            "326 326\n",
            "328 328\n",
            "330 330\n",
            "332 332\n",
            "334 334\n",
            "336 336\n",
            "338 338\n",
            "340 340\n",
            "342 342\n",
            "344 344\n",
            "346 346\n",
            "348 348\n",
            "350 350\n",
            "352 352\n",
            "354 354\n",
            "356 356\n",
            "358 358\n",
            "360 360\n",
            "362 362\n",
            "364 364\n",
            "366 366\n",
            "368 368\n",
            "370 370\n",
            "372 372\n",
            "374 374\n",
            "376 376\n",
            "378 378\n",
            "380 380\n",
            "382 382\n",
            "384 384\n",
            "386 386\n",
            "388 388\n",
            "390 390\n",
            "392 392\n",
            "394 394\n",
            "396 396\n",
            "398 398\n",
            "400 400\n",
            "402 402\n",
            "404 404\n",
            "406 406\n",
            "408 408\n",
            "410 410\n",
            "412 412\n",
            "414 414\n",
            "416 416\n",
            "418 418\n",
            "420 420\n",
            "422 422\n",
            "424 424\n",
            "426 426\n",
            "428 428\n",
            "430 430\n",
            "432 432\n",
            "434 434\n",
            "436 436\n",
            "438 438\n",
            "440 440\n",
            "442 442\n",
            "444 444\n",
            "446 446\n",
            "448 448\n",
            "450 450\n",
            "452 452\n",
            "454 454\n",
            "456 456\n",
            "458 458\n",
            "460 460\n",
            "462 462\n",
            "464 464\n",
            "466 466\n",
            "468 468\n",
            "470 470\n",
            "472 472\n",
            "474 474\n",
            "476 476\n",
            "478 478\n",
            "480 480\n",
            "482 482\n",
            "484 484\n",
            "486 486\n",
            "488 488\n",
            "490 490\n",
            "492 492\n",
            "494 494\n",
            "496 496\n",
            "498 498\n",
            "500 500\n",
            "502 502\n",
            "504 504\n",
            "506 506\n",
            "508 508\n",
            "510 510\n",
            "512 512\n",
            "514 514\n",
            "516 516\n",
            "518 518\n",
            "520 520\n",
            "522 522\n",
            "524 524\n",
            "526 526\n",
            "528 528\n",
            "530 530\n",
            "532 532\n",
            "534 534\n",
            "536 536\n",
            "538 538\n",
            "540 540\n",
            "542 542\n",
            "544 544\n",
            "546 546\n",
            "548 548\n",
            "550 550\n",
            "552 552\n",
            "554 554\n",
            "556 556\n",
            "558 558\n",
            "560 560\n",
            "562 562\n",
            "564 564\n",
            "566 566\n",
            "568 568\n",
            "570 570\n",
            "572 572\n",
            "574 574\n",
            "576 576\n",
            "578 578\n",
            "580 580\n",
            "582 582\n",
            "584 584\n",
            "586 586\n",
            "588 588\n",
            "590 590\n",
            "592 592\n",
            "594 594\n",
            "596 596\n",
            "598 598\n",
            "600 600\n",
            "602 602\n",
            "604 604\n",
            "606 606\n",
            "608 608\n",
            "610 610\n",
            "612 612\n",
            "614 614\n",
            "616 616\n",
            "618 618\n",
            "620 620\n",
            "622 622\n",
            "624 624\n",
            "626 626\n",
            "628 628\n",
            "630 630\n",
            "632 632\n",
            "634 634\n",
            "636 636\n",
            "638 638\n",
            "640 640\n",
            "642 642\n",
            "644 644\n",
            "646 646\n",
            "648 648\n",
            "650 650\n",
            "652 652\n",
            "654 654\n",
            "656 656\n",
            "658 658\n",
            "660 660\n",
            "662 662\n",
            "664 664\n",
            "666 666\n",
            "668 668\n",
            "670 670\n",
            "672 672\n",
            "674 674\n",
            "676 676\n",
            "678 678\n",
            "680 680\n",
            "682 682\n",
            "684 684\n",
            "686 686\n",
            "688 688\n",
            "690 690\n",
            "692 692\n",
            "694 694\n",
            "696 696\n",
            "698 698\n",
            "700 700\n",
            "702 702\n",
            "704 704\n",
            "706 706\n",
            "708 708\n",
            "710 710\n",
            "712 712\n",
            "714 714\n",
            "716 716\n",
            "718 718\n",
            "720 720\n",
            "722 722\n",
            "724 724\n",
            "726 726\n",
            "728 728\n",
            "730 730\n",
            "732 732\n",
            "734 734\n",
            "736 736\n",
            "738 738\n",
            "740 740\n",
            "742 742\n",
            "744 744\n",
            "746 746\n",
            "748 748\n",
            "750 750\n",
            "752 752\n",
            "754 754\n",
            "756 756\n",
            "758 758\n",
            "760 760\n",
            "762 762\n",
            "764 764\n",
            "766 766\n",
            "768 768\n",
            "770 770\n",
            "772 772\n",
            "774 774\n",
            "776 776\n",
            "778 778\n",
            "780 780\n",
            "782 782\n",
            "784 784\n",
            "786 786\n",
            "788 788\n",
            "790 790\n",
            "792 792\n",
            "794 794\n",
            "796 796\n",
            "798 798\n",
            "800 800\n",
            "802 802\n",
            "804 804\n",
            "806 806\n",
            "808 808\n",
            "810 810\n",
            "812 812\n",
            "814 814\n",
            "816 816\n",
            "818 818\n",
            "820 820\n",
            "822 822\n",
            "824 824\n",
            "826 826\n",
            "828 828\n",
            "830 830\n",
            "832 832\n",
            "834 834\n",
            "836 836\n",
            "838 838\n",
            "840 840\n",
            "842 842\n",
            "844 844\n",
            "846 846\n",
            "848 848\n",
            "850 850\n",
            "852 852\n",
            "854 854\n",
            "856 856\n",
            "858 858\n",
            "860 860\n",
            "862 862\n",
            "864 864\n",
            "866 866\n",
            "868 868\n",
            "870 870\n",
            "872 872\n",
            "874 874\n",
            "876 876\n",
            "878 878\n",
            "880 880\n",
            "882 882\n",
            "884 884\n",
            "886 886\n",
            "888 888\n",
            "890 890\n",
            "892 892\n",
            "894 894\n",
            "896 896\n",
            "898 898\n",
            "900 900\n",
            "902 902\n",
            "904 904\n",
            "906 906\n",
            "908 908\n",
            "910 910\n",
            "912 912\n",
            "914 914\n",
            "916 916\n",
            "918 918\n",
            "920 920\n",
            "922 922\n",
            "924 924\n",
            "926 926\n",
            "928 928\n",
            "930 930\n",
            "932 932\n",
            "934 934\n",
            "936 936\n",
            "938 938\n",
            "940 940\n",
            "942 942\n",
            "944 944\n",
            "946 946\n",
            "948 948\n",
            "950 950\n",
            "952 952\n",
            "954 954\n",
            "956 956\n",
            "958 958\n",
            "960 960\n",
            "962 962\n",
            "964 964\n",
            "966 966\n",
            "968 968\n",
            "970 970\n",
            "972 972\n",
            "974 974\n",
            "976 976\n",
            "978 978\n",
            "980 980\n",
            "982 982\n",
            "984 984\n",
            "986 986\n",
            "988 988\n",
            "990 990\n",
            "992 992\n",
            "994 994\n",
            "996 996\n",
            "998 998\n",
            "1000 1000\n",
            "1002 1002\n",
            "1004 1004\n",
            "1006 1006\n",
            "1008 1008\n",
            "1010 1010\n",
            "1012 1012\n",
            "1014 1014\n",
            "1016 1016\n",
            "1018 1018\n",
            "1020 1020\n",
            "1022 1022\n",
            "1024 1024\n",
            "1026 1026\n",
            "1028 1028\n",
            "1030 1030\n",
            "1032 1032\n",
            "1034 1034\n",
            "1036 1036\n",
            "1038 1038\n",
            "1040 1040\n",
            "1042 1042\n",
            "1044 1044\n",
            "1046 1046\n",
            "1048 1048\n",
            "1050 1050\n",
            "1052 1052\n",
            "1054 1054\n",
            "1056 1056\n",
            "1058 1058\n",
            "1060 1060\n",
            "1062 1062\n",
            "1064 1064\n",
            "1066 1066\n",
            "1068 1068\n",
            "1070 1070\n",
            "1072 1072\n",
            "1074 1074\n",
            "1076 1076\n",
            "1078 1078\n",
            "1080 1080\n",
            "1082 1082\n",
            "1084 1084\n",
            "1086 1086\n",
            "1088 1088\n",
            "1090 1090\n",
            "1092 1092\n",
            "1094 1094\n",
            "1096 1096\n",
            "1098 1098\n",
            "1100 1100\n",
            "1102 1102\n",
            "1104 1104\n",
            "1106 1106\n",
            "1108 1108\n",
            "1110 1110\n",
            "1112 1112\n",
            "1114 1114\n",
            "1116 1116\n",
            "1118 1118\n",
            "1120 1120\n",
            "1122 1122\n",
            "1124 1124\n",
            "1126 1126\n",
            "1128 1128\n",
            "1130 1130\n",
            "1132 1132\n",
            "1134 1134\n",
            "1136 1136\n",
            "1138 1138\n",
            "1140 1140\n",
            "1142 1142\n",
            "1144 1144\n",
            "1146 1146\n",
            "1148 1148\n",
            "1150 1150\n",
            "1152 1152\n",
            "1154 1154\n",
            "1156 1156\n",
            "1158 1158\n",
            "1160 1160\n",
            "1162 1162\n",
            "1164 1164\n",
            "1166 1166\n",
            "1168 1168\n",
            "1170 1170\n",
            "1172 1172\n",
            "1174 1174\n",
            "1176 1176\n",
            "1178 1178\n",
            "1180 1180\n",
            "1182 1182\n",
            "1184 1184\n",
            "1186 1186\n",
            "1188 1188\n",
            "1190 1190\n",
            "1192 1192\n",
            "1194 1194\n",
            "1196 1196\n",
            "1198 1198\n",
            "1200 1200\n",
            "1202 1202\n",
            "1204 1204\n",
            "1206 1206\n",
            "1208 1208\n",
            "1210 1210\n",
            "1212 1212\n",
            "1214 1214\n",
            "1216 1216\n",
            "1218 1218\n",
            "1220 1220\n",
            "1222 1222\n",
            "1224 1224\n",
            "1226 1226\n",
            "1228 1228\n",
            "1230 1230\n",
            "1232 1232\n",
            "1234 1234\n",
            "1236 1236\n",
            "1238 1238\n",
            "1240 1240\n",
            "1242 1242\n",
            "1244 1244\n",
            "1246 1246\n",
            "1248 1248\n",
            "1250 1250\n",
            "1252 1252\n",
            "1254 1254\n",
            "1256 1256\n",
            "1258 1258\n",
            "1260 1260\n",
            "1262 1262\n",
            "1264 1264\n",
            "1266 1266\n",
            "1268 1268\n",
            "1270 1270\n",
            "1272 1272\n",
            "1274 1274\n",
            "1276 1276\n",
            "1278 1278\n",
            "1280 1280\n",
            "1282 1282\n",
            "1284 1284\n",
            "1286 1286\n",
            "1288 1288\n",
            "1290 1290\n",
            "1292 1292\n",
            "1294 1294\n",
            "1296 1296\n",
            "1298 1298\n",
            "1300 1300\n",
            "1302 1302\n",
            "1304 1304\n",
            "1306 1306\n",
            "1308 1308\n",
            "1310 1310\n",
            "1312 1312\n",
            "1314 1314\n",
            "1316 1316\n",
            "1318 1318\n",
            "1320 1320\n",
            "1322 1322\n",
            "1324 1324\n",
            "1326 1326\n",
            "1328 1328\n",
            "1330 1330\n",
            "1332 1332\n",
            "1334 1334\n",
            "1336 1336\n",
            "1338 1338\n",
            "1340 1340\n",
            "1342 1342\n",
            "1344 1344\n"
          ],
          "name": "stdout"
        }
      ]
    },
    {
      "cell_type": "code",
      "metadata": {
        "colab": {
          "base_uri": "https://localhost:8080/"
        },
        "id": "i2c3FiQG16zC",
        "outputId": "0dc788e9-4748-4965-9bc7-c38c6f090911"
      },
      "source": [
        "for i in range(len(val)):\r\n",
        "    t = val_img[i]\r\n",
        "    x = val['x'][i]\r\n",
        "    y = val['y'][i]\r\n",
        "    l = val['l'][i]\r\n",
        "    t = extract_frame(t, x, y, l, l)\r\n",
        "    t = resize(t, (100,100))\r\n",
        "    gx.append(rgb2gray(t))\r\n",
        "    gy.append(1)\r\n",
        "    f = random.choice(vid)\r\n",
        "    j = random.randint(0,2995)\r\n",
        "    f = f.get_data(j)\r\n",
        "    x = random.randint(0,1919)\r\n",
        "    y = random.randint(0,1079)\r\n",
        "    t = extract_frame(f, x, y, 500,500)\r\n",
        "    t = resize(t, (100,100))\r\n",
        "    gx.append(rgb2gray(t))\r\n",
        "    gy.append(0)\r\n",
        "    print(len(gx), len(gy))"
      ],
      "execution_count": null,
      "outputs": [
        {
          "output_type": "stream",
          "text": [
            "1346 1346\n",
            "1348 1348\n",
            "1350 1350\n",
            "1352 1352\n",
            "1354 1354\n",
            "1356 1356\n",
            "1358 1358\n",
            "1360 1360\n",
            "1362 1362\n",
            "1364 1364\n",
            "1366 1366\n",
            "1368 1368\n",
            "1370 1370\n",
            "1372 1372\n",
            "1374 1374\n",
            "1376 1376\n",
            "1378 1378\n",
            "1380 1380\n",
            "1382 1382\n",
            "1384 1384\n",
            "1386 1386\n",
            "1388 1388\n",
            "1390 1390\n",
            "1392 1392\n",
            "1394 1394\n",
            "1396 1396\n",
            "1398 1398\n",
            "1400 1400\n",
            "1402 1402\n",
            "1404 1404\n",
            "1406 1406\n",
            "1408 1408\n",
            "1410 1410\n",
            "1412 1412\n",
            "1414 1414\n",
            "1416 1416\n",
            "1418 1418\n",
            "1420 1420\n",
            "1422 1422\n",
            "1424 1424\n",
            "1426 1426\n",
            "1428 1428\n",
            "1430 1430\n",
            "1432 1432\n",
            "1434 1434\n",
            "1436 1436\n",
            "1438 1438\n",
            "1440 1440\n",
            "1442 1442\n",
            "1444 1444\n",
            "1446 1446\n",
            "1448 1448\n",
            "1450 1450\n",
            "1452 1452\n",
            "1454 1454\n",
            "1456 1456\n",
            "1458 1458\n",
            "1460 1460\n",
            "1462 1462\n",
            "1464 1464\n",
            "1466 1466\n",
            "1468 1468\n",
            "1470 1470\n",
            "1472 1472\n",
            "1474 1474\n",
            "1476 1476\n",
            "1478 1478\n",
            "1480 1480\n",
            "1482 1482\n",
            "1484 1484\n",
            "1486 1486\n",
            "1488 1488\n",
            "1490 1490\n",
            "1492 1492\n",
            "1494 1494\n",
            "1496 1496\n",
            "1498 1498\n",
            "1500 1500\n",
            "1502 1502\n",
            "1504 1504\n",
            "1506 1506\n",
            "1508 1508\n",
            "1510 1510\n",
            "1512 1512\n",
            "1514 1514\n",
            "1516 1516\n",
            "1518 1518\n",
            "1520 1520\n",
            "1522 1522\n",
            "1524 1524\n",
            "1526 1526\n",
            "1528 1528\n",
            "1530 1530\n",
            "1532 1532\n",
            "1534 1534\n",
            "1536 1536\n",
            "1538 1538\n",
            "1540 1540\n",
            "1542 1542\n",
            "1544 1544\n",
            "1546 1546\n",
            "1548 1548\n",
            "1550 1550\n",
            "1552 1552\n",
            "1554 1554\n",
            "1556 1556\n",
            "1558 1558\n",
            "1560 1560\n",
            "1562 1562\n",
            "1564 1564\n",
            "1566 1566\n",
            "1568 1568\n",
            "1570 1570\n",
            "1572 1572\n",
            "1574 1574\n",
            "1576 1576\n",
            "1578 1578\n",
            "1580 1580\n",
            "1582 1582\n",
            "1584 1584\n",
            "1586 1586\n",
            "1588 1588\n",
            "1590 1590\n",
            "1592 1592\n",
            "1594 1594\n",
            "1596 1596\n",
            "1598 1598\n",
            "1600 1600\n",
            "1602 1602\n",
            "1604 1604\n",
            "1606 1606\n",
            "1608 1608\n",
            "1610 1610\n",
            "1612 1612\n",
            "1614 1614\n",
            "1616 1616\n",
            "1618 1618\n",
            "1620 1620\n",
            "1622 1622\n",
            "1624 1624\n",
            "1626 1626\n",
            "1628 1628\n",
            "1630 1630\n",
            "1632 1632\n",
            "1634 1634\n",
            "1636 1636\n",
            "1638 1638\n",
            "1640 1640\n",
            "1642 1642\n",
            "1644 1644\n",
            "1646 1646\n",
            "1648 1648\n",
            "1650 1650\n",
            "1652 1652\n",
            "1654 1654\n",
            "1656 1656\n",
            "1658 1658\n",
            "1660 1660\n",
            "1662 1662\n",
            "1664 1664\n",
            "1666 1666\n",
            "1668 1668\n",
            "1670 1670\n",
            "1672 1672\n",
            "1674 1674\n",
            "1676 1676\n",
            "1678 1678\n",
            "1680 1680\n",
            "1682 1682\n",
            "1684 1684\n",
            "1686 1686\n",
            "1688 1688\n",
            "1690 1690\n",
            "1692 1692\n",
            "1694 1694\n",
            "1696 1696\n",
            "1698 1698\n",
            "1700 1700\n",
            "1702 1702\n",
            "1704 1704\n",
            "1706 1706\n",
            "1708 1708\n",
            "1710 1710\n",
            "1712 1712\n",
            "1714 1714\n",
            "1716 1716\n",
            "1718 1718\n",
            "1720 1720\n",
            "1722 1722\n",
            "1724 1724\n",
            "1726 1726\n"
          ],
          "name": "stdout"
        }
      ]
    },
    {
      "cell_type": "code",
      "metadata": {
        "colab": {
          "base_uri": "https://localhost:8080/"
        },
        "id": "ouUHm3K42NYV",
        "outputId": "dc59a63c-b6ef-45fa-d97a-549983a82911"
      },
      "source": [
        "for i in range(len(test)):\r\n",
        "    t = test_img[i]\r\n",
        "    x = test['x'][i]\r\n",
        "    y = test['y'][i]\r\n",
        "    l = test['l'][i]\r\n",
        "    t = extract_frame(t, x, y, l, l)\r\n",
        "    t = resize(t, (100,100))\r\n",
        "    gx.append(rgb2gray(t))\r\n",
        "    gy.append(1)\r\n",
        "    f = random.choice(vid)\r\n",
        "    j = random.randint(0,2995)\r\n",
        "    f = f.get_data(j)\r\n",
        "    x = random.randint(0,1919)\r\n",
        "    y = random.randint(0,1079)\r\n",
        "    t = extract_frame(f, x, y, 500,500)\r\n",
        "    t = resize(t, (100,100))\r\n",
        "    gx.append(rgb2gray(t))\r\n",
        "    gy.append(0)\r\n",
        "    print(len(gx), len(gy))"
      ],
      "execution_count": null,
      "outputs": [
        {
          "output_type": "stream",
          "text": [
            "1728 1728\n",
            "1730 1730\n",
            "1732 1732\n",
            "1734 1734\n",
            "1736 1736\n",
            "1738 1738\n",
            "1740 1740\n",
            "1742 1742\n",
            "1744 1744\n",
            "1746 1746\n",
            "1748 1748\n",
            "1750 1750\n",
            "1752 1752\n",
            "1754 1754\n",
            "1756 1756\n",
            "1758 1758\n",
            "1760 1760\n",
            "1762 1762\n",
            "1764 1764\n",
            "1766 1766\n",
            "1768 1768\n",
            "1770 1770\n",
            "1772 1772\n",
            "1774 1774\n",
            "1776 1776\n",
            "1778 1778\n",
            "1780 1780\n",
            "1782 1782\n",
            "1784 1784\n",
            "1786 1786\n",
            "1788 1788\n",
            "1790 1790\n",
            "1792 1792\n",
            "1794 1794\n",
            "1796 1796\n",
            "1798 1798\n",
            "1800 1800\n",
            "1802 1802\n",
            "1804 1804\n",
            "1806 1806\n",
            "1808 1808\n",
            "1810 1810\n",
            "1812 1812\n",
            "1814 1814\n",
            "1816 1816\n",
            "1818 1818\n",
            "1820 1820\n",
            "1822 1822\n",
            "1824 1824\n",
            "1826 1826\n",
            "1828 1828\n",
            "1830 1830\n",
            "1832 1832\n",
            "1834 1834\n",
            "1836 1836\n",
            "1838 1838\n",
            "1840 1840\n",
            "1842 1842\n",
            "1844 1844\n",
            "1846 1846\n",
            "1848 1848\n",
            "1850 1850\n",
            "1852 1852\n",
            "1854 1854\n",
            "1856 1856\n",
            "1858 1858\n",
            "1860 1860\n",
            "1862 1862\n",
            "1864 1864\n",
            "1866 1866\n",
            "1868 1868\n",
            "1870 1870\n",
            "1872 1872\n",
            "1874 1874\n",
            "1876 1876\n",
            "1878 1878\n",
            "1880 1880\n",
            "1882 1882\n",
            "1884 1884\n",
            "1886 1886\n",
            "1888 1888\n",
            "1890 1890\n",
            "1892 1892\n",
            "1894 1894\n",
            "1896 1896\n",
            "1898 1898\n",
            "1900 1900\n",
            "1902 1902\n",
            "1904 1904\n",
            "1906 1906\n",
            "1908 1908\n",
            "1910 1910\n",
            "1912 1912\n",
            "1914 1914\n",
            "1916 1916\n",
            "1918 1918\n",
            "1920 1920\n"
          ],
          "name": "stdout"
        }
      ]
    },
    {
      "cell_type": "code",
      "metadata": {
        "colab": {
          "base_uri": "https://localhost:8080/",
          "height": 286
        },
        "id": "2hgYed_52NYV",
        "outputId": "2a99298e-3f0e-4d35-e840-1702679a83a5"
      },
      "source": [
        "plt.imshow(gx[17], 'gray')"
      ],
      "execution_count": null,
      "outputs": [
        {
          "output_type": "execute_result",
          "data": {
            "text/plain": [
              "<matplotlib.image.AxesImage at 0x7fe609f5a0f0>"
            ]
          },
          "metadata": {
            "tags": []
          },
          "execution_count": 71
        },
        {
          "output_type": "display_data",
          "data": {
            "image/png": "[encoded data removed]",
            "text/plain": [
              "<Figure size 432x288 with 1 Axes>"
            ]
          },
          "metadata": {
            "tags": [],
            "needs_background": "light"
          }
        }
      ]
    },
    {
      "cell_type": "code",
      "metadata": {
        "id": "PkvoRkjDNLep"
      },
      "source": [
        "with open('/content/drive/MyDrive/Datasets/ISSIA/data/gx', 'wb') as fp:\r\n",
        "    pickle.dump(gx,fp)\r\n",
        "with open('/content/drive/MyDrive/Datasets/ISSIA/data/gy', 'wb') as fp:\r\n",
        "    pickle.dump(gy,fp)"
      ],
      "execution_count": null,
      "outputs": []
    },
    {
      "cell_type": "code",
      "metadata": {
        "colab": {
          "base_uri": "https://localhost:8080/",
          "height": 286
        },
        "id": "Mm8hgMOGiRak",
        "outputId": "bfa644a4-9a74-44a6-90df-8adb1929db78"
      },
      "source": [
        "plt.imshow(sobel_edges(test), 'gray')"
      ],
      "execution_count": null,
      "outputs": [
        {
          "output_type": "execute_result",
          "data": {
            "text/plain": [
              "<matplotlib.image.AxesImage at 0x7f5e97629d30>"
            ]
          },
          "metadata": {
            "tags": []
          },
          "execution_count": 156
        },
        {
          "output_type": "display_data",
          "data": {
            "image/png": "[encoded data removed]",
            "text/plain": [
              "<Figure size 432x288 with 1 Axes>"
            ]
          },
          "metadata": {
            "tags": [],
            "needs_background": "light"
          }
        }
      ]
    },
    {
      "cell_type": "code",
      "metadata": {
        "id": "Hyrx-XTBGHwi"
      },
      "source": [
        "from tensorflow.keras.models import Sequential\r\n",
        "from tensorflow.keras.layers import Conv2D, Dense, Dropout, BatchNormalization, MaxPooling2D, Flatten\r\n",
        "from tensorflow.keras.callbacks import EarlyStopping\r\n",
        "from sklearn.model_selection import train_test_split"
      ],
      "execution_count": null,
      "outputs": []
    },
    {
      "cell_type": "code",
      "metadata": {
        "id": "39mtZ3uzI1S3"
      },
      "source": [
        "early_stop = EarlyStopping(\r\n",
        "    monitor='val_loss',\r\n",
        "    min_delta=0,\r\n",
        "    patience=0,\r\n",
        "    verbose=0,\r\n",
        "    mode='auto',\r\n",
        "    baseline=None,\r\n",
        "    restore_best_weights=True\r\n",
        ")"
      ],
      "execution_count": null,
      "outputs": []
    },
    {
      "cell_type": "code",
      "metadata": {
        "id": "WeOyphz1FOAG"
      },
      "source": [
        "goal_cnn = Sequential()"
      ],
      "execution_count": null,
      "outputs": []
    },
    {
      "cell_type": "code",
      "metadata": {
        "id": "FjWg9nbOF8FV"
      },
      "source": [
        "goal_cnn.add(Conv2D(16, (5,5), (1,1), 'same', activation='relu', input_shape = (100,100,1)))\r\n",
        "goal_cnn.add(BatchNormalization(-1))\r\n",
        "goal_cnn.add(MaxPooling2D((2,2)))\r\n",
        "goal_cnn.add(Dropout(0.25))\r\n",
        "\r\n",
        "goal_cnn.add(Conv2D(32, (2,2), (1,1), 'same', activation='relu'))\r\n",
        "goal_cnn.add(BatchNormalization(-1))\r\n",
        "goal_cnn.add(MaxPooling2D((2,2)))\r\n",
        "goal_cnn.add(Dropout(0.25))\r\n",
        "\r\n",
        "goal_cnn.add(Flatten())\r\n",
        "goal_cnn.add(Dense(1024, activation='relu'))\r\n",
        "goal_cnn.add(Dense(64, activation='relu'))\r\n",
        "goal_cnn.add(Dense(1, activation='sigmoid'))"
      ],
      "execution_count": null,
      "outputs": []
    },
    {
      "cell_type": "code",
      "metadata": {
        "id": "92yE3rfkHWq4"
      },
      "source": [
        "goal_cnn.compile(optimizer='adam', loss='binary_crossentropy', metrics=['accuracy'])"
      ],
      "execution_count": null,
      "outputs": []
    },
    {
      "cell_type": "code",
      "metadata": {
        "id": "V2PBiLekOL8P"
      },
      "source": [
        "goalx = np.expand_dims(np.asarray(gx), 3)\r\n",
        "goaly = np.expand_dims(np.asarray(gy), 1)"
      ],
      "execution_count": null,
      "outputs": []
    },
    {
      "cell_type": "code",
      "metadata": {
        "id": "5LAPrdzbOdqK"
      },
      "source": [
        "(x_train, x_val, y_train, y_val) = train_test_split(goalx, goaly, test_size=0.5, shuffle=True)"
      ],
      "execution_count": null,
      "outputs": []
    },
    {
      "cell_type": "code",
      "metadata": {
        "colab": {
          "base_uri": "https://localhost:8080/"
        },
        "id": "OSCfC53TO7gd",
        "outputId": "f2df826b-7f9a-45aa-e55f-17f2769e5643"
      },
      "source": [
        "x_train.shape"
      ],
      "execution_count": null,
      "outputs": [
        {
          "output_type": "execute_result",
          "data": {
            "text/plain": [
              "(960, 100, 100, 1)"
            ]
          },
          "metadata": {
            "tags": []
          },
          "execution_count": 156
        }
      ]
    },
    {
      "cell_type": "code",
      "metadata": {
        "colab": {
          "base_uri": "https://localhost:8080/"
        },
        "id": "Sb4ao3_EQsxw",
        "outputId": "46c4368c-973b-4ee2-dc68-23bab463747a"
      },
      "source": [
        "np.sum(y_val)"
      ],
      "execution_count": null,
      "outputs": [
        {
          "output_type": "execute_result",
          "data": {
            "text/plain": [
              "472"
            ]
          },
          "metadata": {
            "tags": []
          },
          "execution_count": 157
        }
      ]
    },
    {
      "cell_type": "code",
      "metadata": {
        "colab": {
          "base_uri": "https://localhost:8080/",
          "height": 543
        },
        "id": "tfN3yb9aTWKK",
        "outputId": "79902186-9766-428b-90b6-1cc77d23cfef"
      },
      "source": [
        "goal_cnn.fit(x_train, y_train, validation_data=(x_val, y_val), batch_size=32, epochs=10)"
      ],
      "execution_count": null,
      "outputs": [
        {
          "output_type": "stream",
          "text": [
            "Train on 960 samples, validate on 960 samples\n",
            "Epoch 1/10\n",
            "960/960 [==============================] - 22s 23ms/sample - loss: 0.3299 - acc: 0.9740 - val_loss: 0.7922 - val_acc: 0.8000\n",
            "Epoch 2/10\n",
            "960/960 [==============================] - 21s 22ms/sample - loss: 0.1483 - acc: 0.9948 - val_loss: 7.9605 - val_acc: 0.5125\n",
            "Epoch 3/10\n",
            "960/960 [==============================] - 21s 22ms/sample - loss: 0.0133 - acc: 0.9979 - val_loss: 20.1081 - val_acc: 0.5031\n",
            "Epoch 4/10\n",
            "960/960 [==============================] - 21s 22ms/sample - loss: 2.0896e-04 - acc: 1.0000 - val_loss: 28.7444 - val_acc: 0.5031\n",
            "Epoch 5/10\n",
            "960/960 [==============================] - 21s 22ms/sample - loss: 1.6290e-06 - acc: 1.0000 - val_loss: 33.7979 - val_acc: 0.5031\n",
            "Epoch 6/10\n",
            " 96/960 [==>...........................] - ETA: 15s - loss: 3.9907e-15 - acc: 1.0000"
          ],
          "name": "stdout"
        },
        {
          "output_type": "error",
          "ename": "KeyboardInterrupt",
          "evalue": "ignored",
          "traceback": [
            "\u001b[0;31m---------------------------------------------------------------------------\u001b[0m",
            "\u001b[0;31mKeyboardInterrupt\u001b[0m                         Traceback (most recent call last)",
            "\u001b[0;32m<ipython-input-150-be1bddd325f7>\u001b[0m in \u001b[0;36m<module>\u001b[0;34m()\u001b[0m\n\u001b[0;32m----> 1\u001b[0;31m \u001b[0mgoal_cnn\u001b[0m\u001b[0;34m.\u001b[0m\u001b[0mfit\u001b[0m\u001b[0;34m(\u001b[0m\u001b[0mx_train\u001b[0m\u001b[0;34m,\u001b[0m \u001b[0my_train\u001b[0m\u001b[0;34m,\u001b[0m \u001b[0mvalidation_data\u001b[0m\u001b[0;34m=\u001b[0m\u001b[0;34m(\u001b[0m\u001b[0mx_val\u001b[0m\u001b[0;34m,\u001b[0m \u001b[0my_val\u001b[0m\u001b[0;34m)\u001b[0m\u001b[0;34m,\u001b[0m \u001b[0mbatch_size\u001b[0m\u001b[0;34m=\u001b[0m\u001b[0;36m32\u001b[0m\u001b[0;34m,\u001b[0m \u001b[0mepochs\u001b[0m\u001b[0;34m=\u001b[0m\u001b[0;36m10\u001b[0m\u001b[0;34m)\u001b[0m\u001b[0;34m\u001b[0m\u001b[0;34m\u001b[0m\u001b[0m\n\u001b[0m",
            "\u001b[0;32m/tensorflow-1.15.2/python3.6/tensorflow_core/python/keras/engine/training.py\u001b[0m in \u001b[0;36mfit\u001b[0;34m(self, x, y, batch_size, epochs, verbose, callbacks, validation_split, validation_data, shuffle, class_weight, sample_weight, initial_epoch, steps_per_epoch, validation_steps, validation_freq, max_queue_size, workers, use_multiprocessing, **kwargs)\u001b[0m\n\u001b[1;32m    725\u001b[0m         \u001b[0mmax_queue_size\u001b[0m\u001b[0;34m=\u001b[0m\u001b[0mmax_queue_size\u001b[0m\u001b[0;34m,\u001b[0m\u001b[0;34m\u001b[0m\u001b[0;34m\u001b[0m\u001b[0m\n\u001b[1;32m    726\u001b[0m         \u001b[0mworkers\u001b[0m\u001b[0;34m=\u001b[0m\u001b[0mworkers\u001b[0m\u001b[0;34m,\u001b[0m\u001b[0;34m\u001b[0m\u001b[0;34m\u001b[0m\u001b[0m\n\u001b[0;32m--> 727\u001b[0;31m         use_multiprocessing=use_multiprocessing)\n\u001b[0m\u001b[1;32m    728\u001b[0m \u001b[0;34m\u001b[0m\u001b[0m\n\u001b[1;32m    729\u001b[0m   def evaluate(self,\n",
            "\u001b[0;32m/tensorflow-1.15.2/python3.6/tensorflow_core/python/keras/engine/training_arrays.py\u001b[0m in \u001b[0;36mfit\u001b[0;34m(self, model, x, y, batch_size, epochs, verbose, callbacks, validation_split, validation_data, shuffle, class_weight, sample_weight, initial_epoch, steps_per_epoch, validation_steps, validation_freq, **kwargs)\u001b[0m\n\u001b[1;32m    673\u001b[0m         \u001b[0mvalidation_steps\u001b[0m\u001b[0;34m=\u001b[0m\u001b[0mvalidation_steps\u001b[0m\u001b[0;34m,\u001b[0m\u001b[0;34m\u001b[0m\u001b[0;34m\u001b[0m\u001b[0m\n\u001b[1;32m    674\u001b[0m         \u001b[0mvalidation_freq\u001b[0m\u001b[0;34m=\u001b[0m\u001b[0mvalidation_freq\u001b[0m\u001b[0;34m,\u001b[0m\u001b[0;34m\u001b[0m\u001b[0;34m\u001b[0m\u001b[0m\n\u001b[0;32m--> 675\u001b[0;31m         steps_name='steps_per_epoch')\n\u001b[0m\u001b[1;32m    676\u001b[0m \u001b[0;34m\u001b[0m\u001b[0m\n\u001b[1;32m    677\u001b[0m   def evaluate(self,\n",
            "\u001b[0;32m/tensorflow-1.15.2/python3.6/tensorflow_core/python/keras/engine/training_arrays.py\u001b[0m in \u001b[0;36mmodel_iteration\u001b[0;34m(model, inputs, targets, sample_weights, batch_size, epochs, verbose, callbacks, val_inputs, val_targets, val_sample_weights, shuffle, initial_epoch, steps_per_epoch, validation_steps, validation_freq, mode, validation_in_fit, prepared_feed_values_from_dataset, steps_name, **kwargs)\u001b[0m\n\u001b[1;32m    392\u001b[0m \u001b[0;34m\u001b[0m\u001b[0m\n\u001b[1;32m    393\u001b[0m         \u001b[0;31m# Get outputs.\u001b[0m\u001b[0;34m\u001b[0m\u001b[0;34m\u001b[0m\u001b[0;34m\u001b[0m\u001b[0m\n\u001b[0;32m--> 394\u001b[0;31m         \u001b[0mbatch_outs\u001b[0m \u001b[0;34m=\u001b[0m \u001b[0mf\u001b[0m\u001b[0;34m(\u001b[0m\u001b[0mins_batch\u001b[0m\u001b[0;34m)\u001b[0m\u001b[0;34m\u001b[0m\u001b[0;34m\u001b[0m\u001b[0m\n\u001b[0m\u001b[1;32m    395\u001b[0m         \u001b[0;32mif\u001b[0m \u001b[0;32mnot\u001b[0m \u001b[0misinstance\u001b[0m\u001b[0;34m(\u001b[0m\u001b[0mbatch_outs\u001b[0m\u001b[0;34m,\u001b[0m \u001b[0mlist\u001b[0m\u001b[0;34m)\u001b[0m\u001b[0;34m:\u001b[0m\u001b[0;34m\u001b[0m\u001b[0;34m\u001b[0m\u001b[0m\n\u001b[1;32m    396\u001b[0m           \u001b[0mbatch_outs\u001b[0m \u001b[0;34m=\u001b[0m \u001b[0;34m[\u001b[0m\u001b[0mbatch_outs\u001b[0m\u001b[0;34m]\u001b[0m\u001b[0;34m\u001b[0m\u001b[0;34m\u001b[0m\u001b[0m\n",
            "\u001b[0;32m/tensorflow-1.15.2/python3.6/tensorflow_core/python/keras/backend.py\u001b[0m in \u001b[0;36m__call__\u001b[0;34m(self, inputs)\u001b[0m\n\u001b[1;32m   3474\u001b[0m \u001b[0;34m\u001b[0m\u001b[0m\n\u001b[1;32m   3475\u001b[0m     fetched = self._callable_fn(*array_vals,\n\u001b[0;32m-> 3476\u001b[0;31m                                 run_metadata=self.run_metadata)\n\u001b[0m\u001b[1;32m   3477\u001b[0m     \u001b[0mself\u001b[0m\u001b[0;34m.\u001b[0m\u001b[0m_call_fetch_callbacks\u001b[0m\u001b[0;34m(\u001b[0m\u001b[0mfetched\u001b[0m\u001b[0;34m[\u001b[0m\u001b[0;34m-\u001b[0m\u001b[0mlen\u001b[0m\u001b[0;34m(\u001b[0m\u001b[0mself\u001b[0m\u001b[0;34m.\u001b[0m\u001b[0m_fetches\u001b[0m\u001b[0;34m)\u001b[0m\u001b[0;34m:\u001b[0m\u001b[0;34m]\u001b[0m\u001b[0;34m)\u001b[0m\u001b[0;34m\u001b[0m\u001b[0;34m\u001b[0m\u001b[0m\n\u001b[1;32m   3478\u001b[0m     output_structure = nest.pack_sequence_as(\n",
            "\u001b[0;32m/tensorflow-1.15.2/python3.6/tensorflow_core/python/client/session.py\u001b[0m in \u001b[0;36m__call__\u001b[0;34m(self, *args, **kwargs)\u001b[0m\n\u001b[1;32m   1470\u001b[0m         ret = tf_session.TF_SessionRunCallable(self._session._session,\n\u001b[1;32m   1471\u001b[0m                                                \u001b[0mself\u001b[0m\u001b[0;34m.\u001b[0m\u001b[0m_handle\u001b[0m\u001b[0;34m,\u001b[0m \u001b[0margs\u001b[0m\u001b[0;34m,\u001b[0m\u001b[0;34m\u001b[0m\u001b[0;34m\u001b[0m\u001b[0m\n\u001b[0;32m-> 1472\u001b[0;31m                                                run_metadata_ptr)\n\u001b[0m\u001b[1;32m   1473\u001b[0m         \u001b[0;32mif\u001b[0m \u001b[0mrun_metadata\u001b[0m\u001b[0;34m:\u001b[0m\u001b[0;34m\u001b[0m\u001b[0;34m\u001b[0m\u001b[0m\n\u001b[1;32m   1474\u001b[0m           \u001b[0mproto_data\u001b[0m \u001b[0;34m=\u001b[0m \u001b[0mtf_session\u001b[0m\u001b[0;34m.\u001b[0m\u001b[0mTF_GetBuffer\u001b[0m\u001b[0;34m(\u001b[0m\u001b[0mrun_metadata_ptr\u001b[0m\u001b[0;34m)\u001b[0m\u001b[0;34m\u001b[0m\u001b[0;34m\u001b[0m\u001b[0m\n",
            "\u001b[0;31mKeyboardInterrupt\u001b[0m: "
          ]
        }
      ]
    },
    {
      "cell_type": "code",
      "metadata": {
        "colab": {
          "base_uri": "https://localhost:8080/"
        },
        "id": "mqYC_OyzO9Hs",
        "outputId": "8c4fff7b-2589-4f0f-f246-93bdb8dab7a5"
      },
      "source": [
        "for i in range(5):\r\n",
        "    goal_cnn.fit(x_train, y_train, validation_data=(x_val, y_val), batch_size=32, epochs=1)\r\n",
        "    goal_cnn.fit(x_val, y_val, validation_data=(x_train, y_train), batch_size=32, epochs=1)"
      ],
      "execution_count": null,
      "outputs": [
        {
          "output_type": "stream",
          "text": [
            "Train on 960 samples, validate on 960 samples\n",
            "960/960 [==============================] - 22s 23ms/sample - loss: 0.1295 - acc: 0.9823 - val_loss: 0.1220 - val_acc: 0.9615\n",
            "Train on 960 samples, validate on 960 samples\n",
            "960/960 [==============================] - 21s 22ms/sample - loss: 0.5388 - acc: 0.9896 - val_loss: 2.9104 - val_acc: 0.6729\n",
            "Train on 960 samples, validate on 960 samples\n",
            "960/960 [==============================] - 21s 22ms/sample - loss: 0.0000e+00 - acc: 1.0000 - val_loss: 15.5447 - val_acc: 0.5135\n",
            "Train on 960 samples, validate on 960 samples\n",
            "960/960 [==============================] - 21s 22ms/sample - loss: 0.1366 - acc: 0.9969 - val_loss: 34.4623 - val_acc: 0.4917\n",
            "Train on 960 samples, validate on 960 samples\n",
            "960/960 [==============================] - 21s 22ms/sample - loss: 0.0065 - acc: 0.9990 - val_loss: 52.6768 - val_acc: 0.5083\n",
            "Train on 960 samples, validate on 960 samples\n",
            "960/960 [==============================] - 21s 22ms/sample - loss: 0.2969 - acc: 0.9969 - val_loss: 75.3499 - val_acc: 0.4917\n",
            "Train on 960 samples, validate on 960 samples\n",
            "960/960 [==============================] - 21s 22ms/sample - loss: 4.8905e-37 - acc: 1.0000 - val_loss: 87.0868 - val_acc: 0.5083\n",
            "Train on 960 samples, validate on 960 samples\n",
            "960/960 [==============================] - 21s 22ms/sample - loss: 1.3657e-09 - acc: 1.0000 - val_loss: 88.9270 - val_acc: 0.4917\n",
            "Train on 960 samples, validate on 960 samples\n",
            "960/960 [==============================] - 21s 22ms/sample - loss: 1.5380e-13 - acc: 1.0000 - val_loss: 81.9205 - val_acc: 0.5083\n",
            "Train on 960 samples, validate on 960 samples\n",
            "960/960 [==============================] - 21s 22ms/sample - loss: 0.1417 - acc: 0.9958 - val_loss: 9.4221 - val_acc: 0.6635\n"
          ],
          "name": "stdout"
        }
      ]
    },
    {
      "cell_type": "code",
      "metadata": {
        "id": "imjH8eZ5PmYi"
      },
      "source": [
        ""
      ],
      "execution_count": null,
      "outputs": []
    }
  ]
}